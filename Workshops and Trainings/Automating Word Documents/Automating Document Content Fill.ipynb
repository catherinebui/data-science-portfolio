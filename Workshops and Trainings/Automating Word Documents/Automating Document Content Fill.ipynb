{
 "cells": [
  {
   "cell_type": "code",
   "execution_count": null,
   "metadata": {},
   "outputs": [],
   "source": [
    "from mailmerge import MailMerge\n",
    "import pandas as pd\n",
    "import datetime"
   ]
  },
  {
   "cell_type": "markdown",
   "metadata": {},
   "source": [
    "# Lightning Talk : Automating Word Document with Python\n",
    "\n",
    "Date: 8/24/2021\n",
    "\n",
    "Presented by Catherine Bui\n",
    "\n",
    "Topics: Word Document Automation and Docstrings\n",
    "\n",
    "Objectives:\n",
    "\n",
    "- Save time and improve efficiency\n",
    "- Increase document management\n",
    "- Improve documentation\n",
    "- Scale across systems\n",
    "- Editing word documents\n",
    "- Decrease tedious work with automation\n"
   ]
  },
  {
   "cell_type": "markdown",
   "metadata": {},
   "source": [
    "## Part 1 -  Creating Word Document Template with MergeFields\n",
    "\n",
    "1. Create a form word document similar to Membership Form Application TEMPLATE.docx\n",
    "\n",
    "2. Open up the Word Document File for the template. Click on \"Insert\" tab in the ribbon bar. Under Text section, click on \"Explore Quick Parts\" which opens up a dropdown menu for \"Field\". \n",
    "\n",
    "3. Click on \"Field\" under Quick Parts. It will open up a modal window for \"Field\". \n",
    "\n",
    "4. Within the \"Field\" window, select \"MergeField\" in the dropdown for \"Field Names:\" on the leftmost column. \n",
    "\n",
    "5. In \"Field Properties\" within the middle column, in the input text box for \"Field name\", add a variable name (merge field) to be used for assigning the variable in Python such as example below: name, company, team, start_date, email, etc.\n",
    "\n",
    "6. Do this for each variable field and save the document.\n",
    "\n",
    "7. Assign template to the file path location.\n",
    "\n",
    "8. Use MailMerge in Python to assign values to the variables using MailMerge('somefile.docx').merge(). See code example below."
   ]
  },
  {
   "cell_type": "markdown",
   "metadata": {},
   "source": [
    "## Part 2 - Using Python to fill Word Document Form"
   ]
  },
  {
   "cell_type": "markdown",
   "metadata": {},
   "source": [
    "####  Method 1\n",
    "\n",
    "Using a for loop to create a document for each row in the dataset"
   ]
  },
  {
   "cell_type": "code",
   "execution_count": null,
   "metadata": {},
   "outputs": [],
   "source": [
    "\n",
    "\n",
    "template = 'Membership Form Application TEMPLATE.docx'\n",
    "user_table = pd.DataFrame({'name':['Mindy Monday', 'Tommy Tuesday'],\n",
    "                                          'team': ['Marketing', 'Accounting']})\n",
    "for row_num, row in user_table.iterrows():\n",
    "    user_full_name = row['name']\n",
    "    team = row['team']\n",
    "    \n",
    "    ## declare a new document for each user\n",
    "    document = MailMerge(template)\n",
    "    \n",
    "    ## add in merge fields for document\n",
    "    document.merge(\n",
    "        name = user_full_name,\n",
    "        company_name = 'Edwards Lifesciences',\n",
    "        team = team,\n",
    "        start_date = datetime.datetime.now().strftime(\"%m-%d-%Y\"),\n",
    "        email = '{0}_{1}@edwards.com'.format(user_full_name.split(' ')[0].lower(), user_full_name.split(' ')[1].lower())\n",
    "    )\n",
    "    ### save document to a file path destination\n",
    "    document.write('Membership Form Application {0}.docx'.format(user_full_name))"
   ]
  },
  {
   "cell_type": "markdown",
   "metadata": {},
   "source": [
    "#### Method 2 (Recommended)\n",
    "\n",
    "Compact the codes into a function to optimize use and scale for more datasets and users. It increases the flexibility to apply this to multiple dataframes.\n",
    "\n",
    "Adding docstrings and comments can help organized the codes. In docstrings, specify the functionality/purpose of the function/method, the inputs and the outputs. You can be more elaborative by explaining details on what the function does. Comments are good for short concise detail or placeholders for complex codes.\n",
    "\n",
    "Instruction for the Python code:\n",
    "\n",
    "1. Create a function that for each row in the dataset, create a personalized Word Document per user.\n",
    "\n",
    "2. Retrieve variable values for each user.\n",
    "\n",
    "3. Initiate a new MailMerge document for each user. \n",
    "\n",
    "4. Use MailMerge to assign values to each merge field/variables\n",
    "\n",
    "5. Save document to a new file destination path\n"
   ]
  },
  {
   "cell_type": "code",
   "execution_count": null,
   "metadata": {},
   "outputs": [],
   "source": [
    "template = 'Membership Form Application TEMPLATE.docx'\n",
    "user_table = pd.DataFrame({'name':['Mindy Monday', 'Tommy Tuesday'],\n",
    "                                          'team': ['Marketing', 'Accounting']})\n",
    "def createUserDocument(row):\n",
    "    '''\n",
    "    Function: Create a Membership form application for user\n",
    "        Merge Fields into Document\n",
    "        Save Document into File\n",
    "    Input:\n",
    "        *row (pd.DataFrame row)\n",
    "    Output:\n",
    "        Save Word Document to local directory\n",
    "        Return a String to show that a document was created for the user      \n",
    "    '''\n",
    "    ### assign variables from row\n",
    "    user_full_name = row['name']\n",
    "    team = row['team']\n",
    "    \n",
    "    ### init a new mail merge document for each user\n",
    "    document = MailMerge(template)\n",
    "    \n",
    "    ### add in merge fields for document\n",
    "    document.merge(\n",
    "        name = user_full_name,\n",
    "        company_name = 'Edwards Lifesciences',\n",
    "        team = team,\n",
    "        start_date = datetime.datetime.now().strftime(\"%m-%d-%Y\"),\n",
    "        email = '{0}_{1}@edwards.com'.format(user_full_name.split(' ')[0].lower(), user_full_name.split(' ')[1].lower())\n",
    "    )\n",
    "    ### save document to a file path destination\n",
    "    document.write('Membership Form Application {0}.docx'.format(user_full_name))\n",
    "    return 'Added Document for {0}'.format(user_full_name)\n",
    "    \n",
    "user_table.apply(lambda x: createUserDocument(x), axis = 1)"
   ]
  },
  {
   "cell_type": "code",
   "execution_count": null,
   "metadata": {},
   "outputs": [],
   "source": []
  }
 ],
 "metadata": {
  "kernelspec": {
   "display_name": "Python 3",
   "language": "python",
   "name": "python3"
  },
  "language_info": {
   "codemirror_mode": {
    "name": "ipython",
    "version": 3
   },
   "file_extension": ".py",
   "mimetype": "text/x-python",
   "name": "python",
   "nbconvert_exporter": "python",
   "pygments_lexer": "ipython3",
   "version": "3.7.4"
  }
 },
 "nbformat": 4,
 "nbformat_minor": 2
}
