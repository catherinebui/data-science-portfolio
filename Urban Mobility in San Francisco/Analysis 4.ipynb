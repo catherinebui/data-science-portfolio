{
 "cells": [
  {
   "cell_type": "code",
   "execution_count": 4,
   "metadata": {},
   "outputs": [],
   "source": [
    "import datascience as ds\n",
    "import numpy as np\n",
    "import matplotlib.pyplot as plt\n",
    "import seaborn\n",
    "from datetime import datetime, timedelta\n",
    "seaborn.set_context(rc={'lines.markeredgewidth': 1.0})\n",
    "%matplotlib inline\n",
    "from sklearn import linear_model\n",
    "from sklearn.metrics import mean_squared_error, r2_score"
   ]
  },
  {
   "cell_type": "markdown",
   "metadata": {},
   "source": [
    "The data is named SF_taxi_data.csv, and contains San Francisco Taxi data from 9/1/2012 to 9/17/2012. The dataset consists of 50,000 taxi trips taken in the Bay Area during that time period. For each trip you are given the departure time, arrival time, passenger fare, departure lat/lon coordinates, arrival lat/lon coordinates, departure taz (Traffic Analysis Zone), arrival taz, and the distance between origin and destination in miles.\n",
    "\n",
    "Data might have outliers and errors. To make sure that you have removed all the outliers, do the following: \n",
    "\n",
    "• Get trips where the number of passengers is only 1, and remove fares less than $3.5, since base fare\n",
    "= $3.5, these are likely to be errors. Do the rest of analysis on this filtered data."
   ]
  },
  {
   "cell_type": "code",
   "execution_count": 5,
   "metadata": {},
   "outputs": [
    {
     "data": {
      "text/html": [
       "<table border=\"1\" class=\"dataframe\">\n",
       "    <thead>\n",
       "        <tr>\n",
       "            <th>id</th> <th>departure time</th> <th>arrival time</th> <th>fare ($)</th> <th>num</th> <th>dep lon</th> <th>dep lat</th> <th>arr lon</th> <th>arr lat</th> <th>deptaz</th> <th>arrtaz</th> <th>dist (miles)</th>\n",
       "        </tr>\n",
       "    </thead>\n",
       "    <tbody>\n",
       "        <tr>\n",
       "            <td>0   </td> <td>9/1/12 0:11   </td> <td>9/1/12 0:20 </td> <td>13.2    </td> <td>1   </td> <td>-122.414</td> <td>37.8027</td> <td>-122.421</td> <td>37.7854</td> <td>38    </td> <td>30    </td> <td>1.98084     </td>\n",
       "        </tr>\n",
       "    </tbody>\n",
       "        <tr>\n",
       "            <td>1   </td> <td>9/1/12 0:23   </td> <td>9/1/12 0:31 </td> <td>10.65   </td> <td>1   </td> <td>-122.42 </td> <td>37.7861</td> <td>-122.435</td> <td>37.7622</td> <td>30    </td> <td>94    </td> <td>2.40224     </td>\n",
       "        </tr>\n",
       "    </tbody>\n",
       "        <tr>\n",
       "            <td>2   </td> <td>9/1/12 0:45   </td> <td>9/1/12 0:49 </td> <td>9       </td> <td>1   </td> <td>-122.415</td> <td>37.7747</td> <td>-122.408</td> <td>37.7826</td> <td>10    </td> <td>11    </td> <td>0.479348    </td>\n",
       "        </tr>\n",
       "    </tbody>\n",
       "        <tr>\n",
       "            <td>4   </td> <td>9/1/12 1:09   </td> <td>9/1/12 1:13 </td> <td>7.35    </td> <td>1   </td> <td>-122.43 </td> <td>37.7978</td> <td>-122.418</td> <td>37.789 </td> <td>45    </td> <td>32    </td> <td>1.03807     </td>\n",
       "        </tr>\n",
       "    </tbody>\n",
       "        <tr>\n",
       "            <td>5   </td> <td>9/1/12 1:40   </td> <td>9/1/12 1:52 </td> <td>11.75   </td> <td>1   </td> <td>-122.433</td> <td>37.7841</td> <td>-122.411</td> <td>37.787 </td> <td>77    </td> <td>7     </td> <td>0.960851    </td>\n",
       "        </tr>\n",
       "    </tbody>\n",
       "        <tr>\n",
       "            <td>6   </td> <td>9/1/12 2:49   </td> <td>9/1/12 2:51 </td> <td>5.15    </td> <td>1   </td> <td>-122.409</td> <td>37.7856</td> <td>-122.412</td> <td>37.791 </td> <td>7     </td> <td>29    </td> <td>0.414315    </td>\n",
       "        </tr>\n",
       "    </tbody>\n",
       "        <tr>\n",
       "            <td>7   </td> <td>9/1/12 3:29   </td> <td>9/1/12 3:47 </td> <td>43.65   </td> <td>1   </td> <td>-122.403</td> <td>37.7927</td> <td>-122.386</td> <td>37.6181</td> <td>2     </td> <td>239   </td> <td>14.5105     </td>\n",
       "        </tr>\n",
       "    </tbody>\n",
       "        <tr>\n",
       "            <td>8   </td> <td>9/1/12 0:33   </td> <td>9/1/12 0:57 </td> <td>46.75   </td> <td>1   </td> <td>-122.387</td> <td>37.6174</td> <td>-122.407</td> <td>37.7889</td> <td>239   </td> <td>5     </td> <td>14.2747     </td>\n",
       "        </tr>\n",
       "    </tbody>\n",
       "        <tr>\n",
       "            <td>9   </td> <td>9/1/12 4:39   </td> <td>9/1/12 4:43 </td> <td>6.25    </td> <td>1   </td> <td>-122.422</td> <td>37.7977</td> <td>-122.418</td> <td>37.789 </td> <td>34    </td> <td>31    </td> <td>0.685312    </td>\n",
       "        </tr>\n",
       "    </tbody>\n",
       "        <tr>\n",
       "            <td>10  </td> <td>9/1/12 1:59   </td> <td>9/1/12 2:05 </td> <td>9.55    </td> <td>1   </td> <td>-122.418</td> <td>37.791 </td> <td>-122.429</td> <td>37.7724</td> <td>32    </td> <td>81    </td> <td>1.59807     </td>\n",
       "        </tr>\n",
       "    </tbody>\n",
       "</table>\n",
       "<p>... (46398 rows omitted)</p"
      ],
      "text/plain": [
       "id   | departure time | arrival time | fare ($) | num  | dep lon  | dep lat | arr lon  | arr lat | deptaz | arrtaz | dist (miles)\n",
       "0    | 9/1/12 0:11    | 9/1/12 0:20  | 13.2     | 1    | -122.414 | 37.8027 | -122.421 | 37.7854 | 38     | 30     | 1.98084\n",
       "1    | 9/1/12 0:23    | 9/1/12 0:31  | 10.65    | 1    | -122.42  | 37.7861 | -122.435 | 37.7622 | 30     | 94     | 2.40224\n",
       "2    | 9/1/12 0:45    | 9/1/12 0:49  | 9        | 1    | -122.415 | 37.7747 | -122.408 | 37.7826 | 10     | 11     | 0.479348\n",
       "4    | 9/1/12 1:09    | 9/1/12 1:13  | 7.35     | 1    | -122.43  | 37.7978 | -122.418 | 37.789  | 45     | 32     | 1.03807\n",
       "5    | 9/1/12 1:40    | 9/1/12 1:52  | 11.75    | 1    | -122.433 | 37.7841 | -122.411 | 37.787  | 77     | 7      | 0.960851\n",
       "6    | 9/1/12 2:49    | 9/1/12 2:51  | 5.15     | 1    | -122.409 | 37.7856 | -122.412 | 37.791  | 7      | 29     | 0.414315\n",
       "7    | 9/1/12 3:29    | 9/1/12 3:47  | 43.65    | 1    | -122.403 | 37.7927 | -122.386 | 37.6181 | 2      | 239    | 14.5105\n",
       "8    | 9/1/12 0:33    | 9/1/12 0:57  | 46.75    | 1    | -122.387 | 37.6174 | -122.407 | 37.7889 | 239    | 5      | 14.2747\n",
       "9    | 9/1/12 4:39    | 9/1/12 4:43  | 6.25     | 1    | -122.422 | 37.7977 | -122.418 | 37.789  | 34     | 31     | 0.685312\n",
       "10   | 9/1/12 1:59    | 9/1/12 2:05  | 9.55     | 1    | -122.418 | 37.791  | -122.429 | 37.7724 | 32     | 81     | 1.59807\n",
       "... (46398 rows omitted)"
      ]
     },
     "execution_count": 5,
     "metadata": {},
     "output_type": "execute_result"
    }
   ],
   "source": [
    "taxi_data=ds.Table.read_table(\"SF_taxi_data.csv\")\n",
    "taxi_data=taxi_data.where(\"num\", 1)\n",
    "taxi_data=taxi_data.where(list(map(lambda x: x>=3.5, taxi_data[\"fare ($)\"])))\n",
    "taxi_data"
   ]
  },
  {
   "cell_type": "code",
   "execution_count": 6,
   "metadata": {},
   "outputs": [
    {
     "data": {
      "text/html": [
       "<table border=\"1\" class=\"dataframe\">\n",
       "    <thead>\n",
       "        <tr>\n",
       "            <th>id</th> <th>count</th>\n",
       "        </tr>\n",
       "    </thead>\n",
       "    <tbody>\n",
       "        <tr>\n",
       "            <td>50000</td> <td>1    </td>\n",
       "        </tr>\n",
       "    </tbody>\n",
       "        <tr>\n",
       "            <td>49997</td> <td>1    </td>\n",
       "        </tr>\n",
       "    </tbody>\n",
       "        <tr>\n",
       "            <td>49996</td> <td>1    </td>\n",
       "        </tr>\n",
       "    </tbody>\n",
       "        <tr>\n",
       "            <td>49995</td> <td>1    </td>\n",
       "        </tr>\n",
       "    </tbody>\n",
       "        <tr>\n",
       "            <td>49993</td> <td>1    </td>\n",
       "        </tr>\n",
       "    </tbody>\n",
       "        <tr>\n",
       "            <td>49992</td> <td>1    </td>\n",
       "        </tr>\n",
       "    </tbody>\n",
       "        <tr>\n",
       "            <td>49991</td> <td>1    </td>\n",
       "        </tr>\n",
       "    </tbody>\n",
       "        <tr>\n",
       "            <td>49990</td> <td>1    </td>\n",
       "        </tr>\n",
       "    </tbody>\n",
       "        <tr>\n",
       "            <td>49989</td> <td>1    </td>\n",
       "        </tr>\n",
       "    </tbody>\n",
       "        <tr>\n",
       "            <td>49988</td> <td>1    </td>\n",
       "        </tr>\n",
       "    </tbody>\n",
       "</table>\n",
       "<p>... (46398 rows omitted)</p"
      ],
      "text/plain": [
       "id    | count\n",
       "50000 | 1\n",
       "49997 | 1\n",
       "49996 | 1\n",
       "49995 | 1\n",
       "49993 | 1\n",
       "49992 | 1\n",
       "49991 | 1\n",
       "49990 | 1\n",
       "49989 | 1\n",
       "49988 | 1\n",
       "... (46398 rows omitted)"
      ]
     },
     "execution_count": 6,
     "metadata": {},
     "output_type": "execute_result"
    }
   ],
   "source": [
    "taxi_data.group(\"id\").sort(\"count\", descending=True)"
   ]
  },
  {
   "cell_type": "markdown",
   "metadata": {},
   "source": [
    "Analysis 3. In most trips, the actual fare was way higher than the base one (the equation given in analysis 1). The reason for the extra fare paid by pax is traffic delays (and also drivers taking longer trips than necessary, sometimes due to congestion). Let’s see if this extra surcharge is related to the length and duration of the trip. This will help us predict it before a trip started. Fit a linear regression of travel distance vs. extra cost (the cost above the base fare) on the data from Day 1 to Day 10 of September, and see how the fitted line predicts the fares for data from Day 11 to Day 17? What is the error in prediction?\n",
    "\n",
    "Analysis 4. Both length and duration of a trip seem to have an association with extra fares. Longer trips are more expensive. Do the same analysis in (3), but for travel duration vs. extra cost, and identify whether trip length or trip duration seem to be a better predictor of the extra travel fare?\n"
   ]
  },
  {
   "cell_type": "code",
   "execution_count": 7,
   "metadata": {},
   "outputs": [],
   "source": [
    "\n",
    " \n",
    "def get_hour(s): \n",
    "    return datetime.strptime(s, \"%m/%d/%y %H:%M\").hour\n",
    " \n",
    "def get_date(s): \n",
    "    return datetime.strptime(s, \"%m/%d/%y %H:%M\").date()\n",
    " \n",
    "def get_weekday(s): # 0 = Monday - 6= Sunday\n",
    "    return datetime.strptime(s, \"%m/%d/%y %H:%M\").date().weekday()\n",
    " \n",
    "def get_dur(start,finish): \n",
    "    start_time = datetime.strptime(start, \"%m/%d/%y %H:%M\")\n",
    "    end_time = datetime.strptime(finish, \"%m/%d/%y %H:%M\")\n",
    "    return (end_time-start_time).total_seconds()/60."
   ]
  },
  {
   "cell_type": "code",
   "execution_count": 8,
   "metadata": {},
   "outputs": [],
   "source": [
    "start=taxi_data[\"departure time\"]\n",
    "end=taxi_data[\"arrival time\"]\n",
    "\n",
    "duration=np.zeros(taxi_data.num_rows)\n",
    "\n",
    "for i in range (taxi_data.num_rows):\n",
    "    duration[i]=get_dur(start[i], end[i])\n",
    "taxi_data[\"duration\"]=duration"
   ]
  },
  {
   "cell_type": "code",
   "execution_count": 9,
   "metadata": {},
   "outputs": [],
   "source": [
    "taxi_data[\"extra_fares\"]=taxi_data.column(\"fare ($)\")-(3.5 + 0.5 *5 * taxi_data[\"dist (miles)\"]-0.55)"
   ]
  },
  {
   "cell_type": "code",
   "execution_count": 10,
   "metadata": {},
   "outputs": [],
   "source": [
    "def standard_units(number):\n",
    "    return(number-np.mean(number))/np.std(number)\n",
    "\n",
    "def correlation(x,y):\n",
    "    return(np.mean(standard_units(x)*standard_units(y)))\n",
    "\n",
    "\n",
    "def slope(table, x, y):\n",
    "    r = correlation(table.column(x),table.column(y))\n",
    "    return r * np.std(table.column(y))/np.std(table.column(x))\n",
    "\n",
    "def intercept(table, x, y):\n",
    "    a = slope(table, x, y)\n",
    "    return np.mean(table.column(y)) - a * np.mean(table.column(x))\n",
    "\n",
    "def fit(table, x, y):\n",
    "    \"\"\"Return the height of the regression line at each x value.\"\"\"\n",
    "    a = slope(table, x, y)\n",
    "    b = intercept(table, x, y)\n",
    "    return a * table.column(x) + b\n",
    "\n",
    "fit=fit(taxi_data, \"duration\", \"extra_fares\")\n",
    "\n",
    "taxi_data[\"Linear Prediction\"]=fit\n",
    "errors=taxi_data[\"duration\"]-taxi_data[\"Linear Prediction\"]\n",
    "taxi_data[\"errors\"]=errors"
   ]
  },
  {
   "cell_type": "code",
   "execution_count": 11,
   "metadata": {},
   "outputs": [],
   "source": [
    "s=taxi_data[\"departure time\"]\n",
    "day=np.zeros(taxi_data.num_rows)\n",
    "for i in range(taxi_data.num_rows):\n",
    "    day[i]=datetime.strptime(s[i], \"%m/%d/%y %H:%M\").day\n",
    "taxi_data[\"Day\"]=day\n",
    "day1_10=taxi_data.where(taxi_data[\"Day\"]<11)\n",
    "day11_17=taxi_data.where(taxi_data[\"Day\"]>11)"
   ]
  },
  {
   "cell_type": "code",
   "execution_count": 12,
   "metadata": {},
   "outputs": [
    {
     "name": "stdout",
     "output_type": "stream",
     "text": [
      "R-square: 0.93\n"
     ]
    }
   ],
   "source": [
    "#DOING IT BY THE MEAN OF EACH DAY\n",
    "\n",
    "taxi_mean=taxi_data.select(\"Day\", \"duration\").group(\"Day\", np.mean)\n",
    "fares_mean=taxi_data.select(\"Day\", \"extra_fares\").group(\"Day\", np.mean)\n",
    "taxi_mean[\"duration\"]=taxi_mean[\"duration mean\"]\n",
    "taxi_mean[\"extra_fares\"]=fares_mean[\"extra_fares mean\"]\n",
    "\n",
    "regr=linear_model.LinearRegression()\n",
    "X_trainM=taxi_mean[\"duration\"][0:9]\n",
    "Y_trainM=taxi_mean[\"extra_fares\"][0:9]\n",
    "X_trainM=np.reshape(X_trainM, (len(X_trainM),1))\n",
    "Y_trainM=np.reshape(Y_trainM, (len(Y_trainM),1))\n",
    "\n",
    "X_testM=taxi_mean[\"duration\"][10:16]\n",
    "Y_testM=taxi_mean[\"extra_fares\"][10:16]\n",
    "X_testM=np.reshape(X_testM, (len(X_testM),1))\n",
    "Y_testM=np.reshape(Y_testM, (len(Y_testM),1))\n",
    "regr.fit(X_trainM, Y_trainM)\n",
    "\n",
    "load_predM=regr.predict(X_testM)\n",
    "print(\"R-square: %.2f\" %r2_score(Y_testM, load_predM))\n"
   ]
  },
  {
   "cell_type": "code",
   "execution_count": 13,
   "metadata": {},
   "outputs": [
    {
     "name": "stdout",
     "output_type": "stream",
     "text": [
      "R-square: 0.54\n"
     ]
    }
   ],
   "source": [
    "regr=linear_model.LinearRegression()\n",
    "X_train=taxi_data[\"duration\"][0:day1_10.num_rows-1]\n",
    "Y_train=taxi_data[\"extra_fares\"][0:day1_10.num_rows-1]\n",
    "X_train=np.reshape(X_train, (len(X_train),1))\n",
    "Y_train=np.reshape(Y_train, (len(Y_train),1))\n",
    "\n",
    "X_test=taxi_data[\"duration\"][day1_10.num_rows-1:taxi_data.num_rows]\n",
    "Y_test=taxi_data[\"extra_fares\"][day1_10.num_rows-1:taxi_data.num_rows]\n",
    "X_test=np.reshape(X_test, (len(X_test),1))\n",
    "Y_test=np.reshape(Y_test, (len(Y_test),1))\n",
    "regr.fit(X_train, Y_train)\n",
    "\n",
    "load_pred=regr.predict(X_test)\n",
    "print(\"R-square: %.2f\" %r2_score(Y_test, load_pred))"
   ]
  },
  {
   "cell_type": "code",
   "execution_count": 14,
   "metadata": {},
   "outputs": [],
   "source": [
    "r=correlation(X_train,Y_train)\n",
    "\n",
    "theta1=r*(np.std(X_train)/np.std(Y_train))\n",
    "theta2=np.mean(Y_train)-theta1*np.mean(X_train)"
   ]
  },
  {
   "cell_type": "code",
   "execution_count": 15,
   "metadata": {},
   "outputs": [],
   "source": [
    "rM=correlation(X_trainM,Y_trainM)\n",
    "\n",
    "theta1M=rM*(np.std(X_trainM)/np.std(Y_trainM))\n",
    "theta2M=np.mean(Y_trainM)-theta1M*np.mean(X_trainM)\n",
    "\n",
    "\n",
    "r_test=correlation(X_test, Y_test)\n",
    "theta1_test=r*(np.std(X_test)/np.std(Y_test))\n",
    "theta2_test=np.mean(Y_test)-theta1*np.mean(X_test)"
   ]
  },
  {
   "cell_type": "code",
   "execution_count": 16,
   "metadata": {},
   "outputs": [
    {
     "data": {
      "text/html": [
       "<table border=\"1\" class=\"dataframe\">\n",
       "    <thead>\n",
       "        <tr>\n",
       "            <th>Day</th> <th>duration mean</th> <th>duration</th> <th>extra_fares</th>\n",
       "        </tr>\n",
       "    </thead>\n",
       "    <tbody>\n",
       "        <tr>\n",
       "            <td>1   </td> <td>10.2787      </td> <td>10.2787 </td> <td>4.3818     </td>\n",
       "        </tr>\n",
       "    </tbody>\n",
       "        <tr>\n",
       "            <td>2   </td> <td>10.3479      </td> <td>10.3479 </td> <td>4.37672    </td>\n",
       "        </tr>\n",
       "    </tbody>\n",
       "        <tr>\n",
       "            <td>3   </td> <td>11.4338      </td> <td>11.4338 </td> <td>5.45725    </td>\n",
       "        </tr>\n",
       "    </tbody>\n",
       "        <tr>\n",
       "            <td>4   </td> <td>12.002       </td> <td>12.002  </td> <td>5.52396    </td>\n",
       "        </tr>\n",
       "    </tbody>\n",
       "        <tr>\n",
       "            <td>5   </td> <td>11.5025      </td> <td>11.5025 </td> <td>5.41729    </td>\n",
       "        </tr>\n",
       "    </tbody>\n",
       "        <tr>\n",
       "            <td>6   </td> <td>11.984       </td> <td>11.984  </td> <td>5.64557    </td>\n",
       "        </tr>\n",
       "    </tbody>\n",
       "        <tr>\n",
       "            <td>7   </td> <td>11.5367      </td> <td>11.5367 </td> <td>5.15397    </td>\n",
       "        </tr>\n",
       "    </tbody>\n",
       "        <tr>\n",
       "            <td>8   </td> <td>10.385       </td> <td>10.385  </td> <td>4.55083    </td>\n",
       "        </tr>\n",
       "    </tbody>\n",
       "        <tr>\n",
       "            <td>9   </td> <td>10.7349      </td> <td>10.7349 </td> <td>5.054      </td>\n",
       "        </tr>\n",
       "    </tbody>\n",
       "        <tr>\n",
       "            <td>10  </td> <td>11.9967      </td> <td>11.9967 </td> <td>5.8727     </td>\n",
       "        </tr>\n",
       "    </tbody>\n",
       "</table>\n",
       "<p>... (7 rows omitted)</p"
      ],
      "text/plain": [
       "Day  | duration mean | duration | extra_fares\n",
       "1    | 10.2787       | 10.2787  | 4.3818\n",
       "2    | 10.3479       | 10.3479  | 4.37672\n",
       "3    | 11.4338       | 11.4338  | 5.45725\n",
       "4    | 12.002        | 12.002   | 5.52396\n",
       "5    | 11.5025       | 11.5025  | 5.41729\n",
       "6    | 11.984        | 11.984   | 5.64557\n",
       "7    | 11.5367       | 11.5367  | 5.15397\n",
       "8    | 10.385        | 10.385   | 4.55083\n",
       "9    | 10.7349       | 10.7349  | 5.054\n",
       "10   | 11.9967       | 11.9967  | 5.8727\n",
       "... (7 rows omitted)"
      ]
     },
     "execution_count": 16,
     "metadata": {},
     "output_type": "execute_result"
    }
   ],
   "source": [
    "taxi_mean=taxi_data.select(\"Day\", \"duration\").group(\"Day\", np.mean)\n",
    "fares_mean=taxi_data.select(\"Day\", \"extra_fares\").group(\"Day\", np.mean)\n",
    "taxi_mean[\"duration\"]=taxi_mean[\"duration mean\"]\n",
    "taxi_mean[\"extra_fares\"]=fares_mean[\"extra_fares mean\"]\n",
    "taxi_mean"
   ]
  },
  {
   "cell_type": "code",
   "execution_count": null,
   "metadata": {},
   "outputs": [],
   "source": [
    "\n"
   ]
  },
  {
   "cell_type": "code",
   "execution_count": 17,
   "metadata": {},
   "outputs": [
    {
     "data": {
      "image/png": "[encoded data removed]",
      "text/plain": [
       "<matplotlib.figure.Figure at 0x7ff38c6b2278>"
      ]
     },
     "metadata": {},
     "output_type": "display_data"
    }
   ],
   "source": [
    "plt.plot(X_train, Y_train, \"bx\")\n",
    "xlim = plt.gca().get_xlim()\n",
    "ylim = plt.gca().get_ylim()\n",
    "plt.xlabel(\"Duration of Trip (minutes)\")\n",
    "plt.ylabel(\"Additional Fares\")\n",
    "plt.tight_layout()\n",
    "plt.savefig(\"scatter.pdf\")\n",
    "xlim=plt.gca().get_xlim()\n",
    "ylim=plt.gca().get_ylim()\n",
    "\n",
    "#X = np.vstack([taxi_data[\"duration\"], np.ones(len(taxi_data.column(0)))]).T\n",
    "#y = taxi_data[\"extra_fares\"]\n",
    "#theta = np.linalg.solve(X.T.dot(X), X.T.dot(y))\n",
    "\n",
    "plt.plot(X_train, Y_train, \"bx\")\n",
    "xlims=np.array([0, 160])\n",
    "plt.plot(xlims,theta1*xlims+theta2,lw=2, color=\"orange\")\n",
    "xlim = plt.gca().get_xlim()\n",
    "ylim = plt.gca().get_ylim()\n",
    "plt.xlabel(\"Duration of Trip (minutes)\")\n",
    "plt.ylabel(\"Additional Fares\")\n",
    "plt.tight_layout()\n",
    "plt.savefig(\"day1_10.pdf\")"
   ]
  },
  {
   "cell_type": "code",
   "execution_count": null,
   "metadata": {},
   "outputs": [],
   "source": [
    "\n",
    "\n"
   ]
  },
  {
   "cell_type": "code",
   "execution_count": 18,
   "metadata": {},
   "outputs": [
    {
     "data": {
      "image/png": "[encoded data removed]",
      "text/plain": [
       "<matplotlib.figure.Figure at 0x7ff38c6f64e0>"
      ]
     },
     "metadata": {},
     "output_type": "display_data"
    }
   ],
   "source": [
    "plt.plot(X_test, Y_test, \"bx\")\n",
    "xlim = plt.gca().get_xlim()\n",
    "ylim = plt.gca().get_ylim()\n",
    "plt.xlabel(\"Duration of Trip (minutes)\")\n",
    "plt.ylabel(\"Additional Fares\")\n",
    "plt.tight_layout()\n",
    "plt.savefig(\"scatter.pdf\")\n",
    "xlim=plt.gca().get_xlim()\n",
    "ylim=plt.gca().get_ylim()\n",
    "\n",
    "#X = np.vstack([taxi_data[\"duration\"], np.ones(len(taxi_data.column(0)))]).T\n",
    "#y = taxi_data[\"extra_fares\"]\n",
    "#theta = np.linalg.solve(X.T.dot(X), X.T.dot(y))\n",
    "\n",
    "plt.plot(X_test, Y_test, \"bx\")\n",
    "xlims=np.array([0, 160])\n",
    "plt.plot(xlims,theta1*xlims+theta2,lw=2, color=\"orange\")\n",
    "xlim = plt.gca().get_xlim()\n",
    "ylim = plt.gca().get_ylim()\n",
    "plt.xlabel(\"Duration of Trip (minutes)\")\n",
    "plt.ylabel(\"Additional Fares\")\n",
    "plt.tight_layout()\n",
    "plt.savefig(\"day1_10.pdf\")"
   ]
  },
  {
   "cell_type": "code",
   "execution_count": 19,
   "metadata": {},
   "outputs": [
    {
     "data": {
      "text/html": [
       "<table border=\"1\" class=\"dataframe\">\n",
       "    <thead>\n",
       "        <tr>\n",
       "            <th>id</th> <th>departure time</th> <th>arrival time</th> <th>fare ($)</th> <th>num</th> <th>dep lon</th> <th>dep lat</th> <th>arr lon</th> <th>arr lat</th> <th>deptaz</th> <th>arrtaz</th> <th>dist (miles)</th> <th>duration</th> <th>extra_fares</th> <th>Linear Prediction</th> <th>errors</th> <th>Day</th>\n",
       "        </tr>\n",
       "    </thead>\n",
       "    <tbody>\n",
       "        <tr>\n",
       "            <td>0   </td> <td>9/1/12 0:11   </td> <td>9/1/12 0:20 </td> <td>13.2    </td> <td>1   </td> <td>-122.414</td> <td>37.8027</td> <td>-122.421</td> <td>37.7854</td> <td>38    </td> <td>30    </td> <td>1.98084     </td> <td>9       </td> <td>5.29791    </td> <td>3.81292          </td> <td>5.18708</td> <td>1   </td>\n",
       "        </tr>\n",
       "    </tbody>\n",
       "        <tr>\n",
       "            <td>1   </td> <td>9/1/12 0:23   </td> <td>9/1/12 0:31 </td> <td>10.65   </td> <td>1   </td> <td>-122.42 </td> <td>37.7861</td> <td>-122.435</td> <td>37.7622</td> <td>30    </td> <td>94    </td> <td>2.40224     </td> <td>8       </td> <td>1.6944     </td> <td>3.21438          </td> <td>4.78562</td> <td>1   </td>\n",
       "        </tr>\n",
       "    </tbody>\n",
       "        <tr>\n",
       "            <td>2   </td> <td>9/1/12 0:45   </td> <td>9/1/12 0:49 </td> <td>9       </td> <td>1   </td> <td>-122.415</td> <td>37.7747</td> <td>-122.408</td> <td>37.7826</td> <td>10    </td> <td>11    </td> <td>0.479348    </td> <td>4       </td> <td>4.85163    </td> <td>0.820236         </td> <td>3.17976</td> <td>1   </td>\n",
       "        </tr>\n",
       "    </tbody>\n",
       "        <tr>\n",
       "            <td>4   </td> <td>9/1/12 1:09   </td> <td>9/1/12 1:13 </td> <td>7.35    </td> <td>1   </td> <td>-122.43 </td> <td>37.7978</td> <td>-122.418</td> <td>37.789 </td> <td>45    </td> <td>32    </td> <td>1.03807     </td> <td>4       </td> <td>1.80482    </td> <td>0.820236         </td> <td>3.17976</td> <td>1   </td>\n",
       "        </tr>\n",
       "    </tbody>\n",
       "        <tr>\n",
       "            <td>5   </td> <td>9/1/12 1:40   </td> <td>9/1/12 1:52 </td> <td>11.75   </td> <td>1   </td> <td>-122.433</td> <td>37.7841</td> <td>-122.411</td> <td>37.787 </td> <td>77    </td> <td>7     </td> <td>0.960851    </td> <td>12      </td> <td>6.39787    </td> <td>5.60853          </td> <td>6.39147</td> <td>1   </td>\n",
       "        </tr>\n",
       "    </tbody>\n",
       "        <tr>\n",
       "            <td>6   </td> <td>9/1/12 2:49   </td> <td>9/1/12 2:51 </td> <td>5.15    </td> <td>1   </td> <td>-122.409</td> <td>37.7856</td> <td>-122.412</td> <td>37.791 </td> <td>7     </td> <td>29    </td> <td>0.414315    </td> <td>2       </td> <td>1.16421    </td> <td>-0.376836        </td> <td>2.37684</td> <td>1   </td>\n",
       "        </tr>\n",
       "    </tbody>\n",
       "        <tr>\n",
       "            <td>7   </td> <td>9/1/12 3:29   </td> <td>9/1/12 3:47 </td> <td>43.65   </td> <td>1   </td> <td>-122.403</td> <td>37.7927</td> <td>-122.386</td> <td>37.6181</td> <td>2     </td> <td>239   </td> <td>14.5105     </td> <td>18      </td> <td>4.42364    </td> <td>9.19974          </td> <td>8.80026</td> <td>1   </td>\n",
       "        </tr>\n",
       "    </tbody>\n",
       "        <tr>\n",
       "            <td>8   </td> <td>9/1/12 0:33   </td> <td>9/1/12 0:57 </td> <td>46.75   </td> <td>1   </td> <td>-122.387</td> <td>37.6174</td> <td>-122.407</td> <td>37.7889</td> <td>239   </td> <td>5     </td> <td>14.2747     </td> <td>24      </td> <td>8.11327    </td> <td>12.791           </td> <td>11.209 </td> <td>1   </td>\n",
       "        </tr>\n",
       "    </tbody>\n",
       "        <tr>\n",
       "            <td>9   </td> <td>9/1/12 4:39   </td> <td>9/1/12 4:43 </td> <td>6.25    </td> <td>1   </td> <td>-122.422</td> <td>37.7977</td> <td>-122.418</td> <td>37.789 </td> <td>34    </td> <td>31    </td> <td>0.685312    </td> <td>4       </td> <td>1.58672    </td> <td>0.820236         </td> <td>3.17976</td> <td>1   </td>\n",
       "        </tr>\n",
       "    </tbody>\n",
       "        <tr>\n",
       "            <td>10  </td> <td>9/1/12 1:59   </td> <td>9/1/12 2:05 </td> <td>9.55    </td> <td>1   </td> <td>-122.418</td> <td>37.791 </td> <td>-122.429</td> <td>37.7724</td> <td>32    </td> <td>81    </td> <td>1.59807     </td> <td>6       </td> <td>2.60482    </td> <td>2.01731          </td> <td>3.98269</td> <td>1   </td>\n",
       "        </tr>\n",
       "    </tbody>\n",
       "</table>\n",
       "<p>... (46398 rows omitted)</p"
      ],
      "text/plain": [
       "id   | departure time | arrival time | fare ($) | num  | dep lon  | dep lat | arr lon  | arr lat | deptaz | arrtaz | dist (miles) | duration | extra_fares | Linear Prediction | errors  | Day\n",
       "0    | 9/1/12 0:11    | 9/1/12 0:20  | 13.2     | 1    | -122.414 | 37.8027 | -122.421 | 37.7854 | 38     | 30     | 1.98084      | 9        | 5.29791     | 3.81292           | 5.18708 | 1\n",
       "1    | 9/1/12 0:23    | 9/1/12 0:31  | 10.65    | 1    | -122.42  | 37.7861 | -122.435 | 37.7622 | 30     | 94     | 2.40224      | 8        | 1.6944      | 3.21438           | 4.78562 | 1\n",
       "2    | 9/1/12 0:45    | 9/1/12 0:49  | 9        | 1    | -122.415 | 37.7747 | -122.408 | 37.7826 | 10     | 11     | 0.479348     | 4        | 4.85163     | 0.820236          | 3.17976 | 1\n",
       "4    | 9/1/12 1:09    | 9/1/12 1:13  | 7.35     | 1    | -122.43  | 37.7978 | -122.418 | 37.789  | 45     | 32     | 1.03807      | 4        | 1.80482     | 0.820236          | 3.17976 | 1\n",
       "5    | 9/1/12 1:40    | 9/1/12 1:52  | 11.75    | 1    | -122.433 | 37.7841 | -122.411 | 37.787  | 77     | 7      | 0.960851     | 12       | 6.39787     | 5.60853           | 6.39147 | 1\n",
       "6    | 9/1/12 2:49    | 9/1/12 2:51  | 5.15     | 1    | -122.409 | 37.7856 | -122.412 | 37.791  | 7      | 29     | 0.414315     | 2        | 1.16421     | -0.376836         | 2.37684 | 1\n",
       "7    | 9/1/12 3:29    | 9/1/12 3:47  | 43.65    | 1    | -122.403 | 37.7927 | -122.386 | 37.6181 | 2      | 239    | 14.5105      | 18       | 4.42364     | 9.19974           | 8.80026 | 1\n",
       "8    | 9/1/12 0:33    | 9/1/12 0:57  | 46.75    | 1    | -122.387 | 37.6174 | -122.407 | 37.7889 | 239    | 5      | 14.2747      | 24       | 8.11327     | 12.791            | 11.209  | 1\n",
       "9    | 9/1/12 4:39    | 9/1/12 4:43  | 6.25     | 1    | -122.422 | 37.7977 | -122.418 | 37.789  | 34     | 31     | 0.685312     | 4        | 1.58672     | 0.820236          | 3.17976 | 1\n",
       "10   | 9/1/12 1:59    | 9/1/12 2:05  | 9.55     | 1    | -122.418 | 37.791  | -122.429 | 37.7724 | 32     | 81     | 1.59807      | 6        | 2.60482     | 2.01731           | 3.98269 | 1\n",
       "... (46398 rows omitted)"
      ]
     },
     "execution_count": 19,
     "metadata": {},
     "output_type": "execute_result"
    }
   ],
   "source": [
    "#LEAST SQUARE ERROR \n",
    "taxi_data"
   ]
  },
  {
   "cell_type": "code",
   "execution_count": 20,
   "metadata": {},
   "outputs": [
    {
     "data": {
      "text/plain": [
       "0.0085522706101511161"
      ]
     },
     "execution_count": 20,
     "metadata": {},
     "output_type": "execute_result"
    }
   ],
   "source": [
    "fit=theta1*day11_17[\"duration\"]+theta2\n",
    "(np.absolute(np.mean(day11_17[\"extra_fares\"]-fit**2)))/day11_17.num_rows"
   ]
  },
  {
   "cell_type": "code",
   "execution_count": null,
   "metadata": {},
   "outputs": [],
   "source": []
  }
 ],
 "metadata": {
  "kernelspec": {
   "display_name": "Python 3",
   "language": "python",
   "name": "python3"
  },
  "language_info": {
   "codemirror_mode": {
    "name": "ipython",
    "version": 3
   },
   "file_extension": ".py",
   "mimetype": "text/x-python",
   "name": "python",
   "nbconvert_exporter": "python",
   "pygments_lexer": "ipython3",
   "version": "3.6.1"
  }
 },
 "nbformat": 4,
 "nbformat_minor": 2
}
