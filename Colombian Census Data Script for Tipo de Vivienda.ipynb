{
 "cells": [
  {
   "cell_type": "code",
   "execution_count": 1,
   "metadata": {},
   "outputs": [],
   "source": [
    "import pandas as pd\n",
    "import csv\n",
    "import numpy as np\n",
    "import xlrd\n",
    "from pathlib import Path"
   ]
  },
  {
   "cell_type": "code",
   "execution_count": 2,
   "metadata": {},
   "outputs": [],
   "source": [
    "vivienda = pd.read_excel('V01BTIPVIV.xlsx')\n"
   ]
  },
  {
   "cell_type": "markdown",
   "metadata": {},
   "source": [
    "The function below copies the original df's row by row into a new df if conditions are met."
   ]
  },
  {
   "cell_type": "code",
   "execution_count": 98,
   "metadata": {},
   "outputs": [],
   "source": [
    "categories1 = ['Casa', ' Casa indÌgena', ' Apartamento', ' Tipo cuarto', ' Otro tipo de vivienda', ' Total']\n",
    "categories2 = ['Casos', '%', 'Acumulado %']\n",
    "index = 'AREA #'\n",
    "excelcolumns = vivienda.columns\n",
    "['Tipo_vivo_' + c.replace(' ', '_') + '_' + end.replace(' ', '_') for c in categories1 for end in categories2]\n",
    "def long_to_wide(df, verticalvar, horizontalvar, columns, index):\n",
    "    '''\n",
    "    df: dataframe in long format shown above\n",
    "    verticalvar: an array of strings - Names of the Row Labels of the Panel Table\n",
    "    horizontalvar: an array of strings - Names of the Column Labels of the Panel Table\n",
    "    columns: an array of strings - df columns from the top of the excel sheet\n",
    "    index: the individual variable that differentiate each panel table\n",
    "    \n",
    "    This converts long format excel panel table with index to wide format \n",
    "    by filtering through each row and copying to a new dataframe. Thus, it \n",
    "    returns a new pandas dataframe with columns that are combinations of \n",
    "    verticalvar and horizontalvar.\n",
    "    '''\n",
    "    #Compile all the combinations of column names for the output table\n",
    "    newc = [c + ' '  + end for c in verticalvar for end in horizontalvar]\n",
    "    \n",
    "    #Create an empty table with empty columns of the resulting names\n",
    "    newdf = pd.DataFrame()\n",
    "    newc.append(index)\n",
    "    newc.append('Four_digit_num') #Remove or change as needed. This add a column name into the list\n",
    "    newdf = newdf.reindex(columns = newc)\n",
    "    \n",
    "    \n",
    "    #Creating a dictionary of column names as keys and arrays as the values\n",
    "    dictionaryofvalues = {}\n",
    "    for c in newdf.columns:\n",
    "        dictionaryofvalues[c] = []\n",
    "        \n",
    "    ''' Copying the value from the original df into its respective array\n",
    "    Once it reaches an index, in this case, Area #, it appends an empty value to each \n",
    "    newdf's columns.\n",
    "    In each row, if the condition is true, it will delete the last value \n",
    "    and add the new value. This will keep the lengths equal to form a df. \n",
    "    This is because not every panel table in the df have the same row labels.'''\n",
    "    for i, row in df.iterrows():\n",
    "        if row.isnull().sum() != 4:\n",
    "            if row.loc[columns[0]] == 'RESUMEN':\n",
    "                break\n",
    "            if row.loc[columns[0]][0:6] == index:\n",
    "                dictionaryofvalues.get(index).append(row[columns[0]][7:])\n",
    "                dictionaryofvalues.get('Four_digit_num').append(row[columns[1]])\n",
    "                for kv in range(18): #Change number if needed\n",
    "#                     print(kv, newc[kv])\n",
    "                    dictionaryofvalues.get(newc[kv]).append(np.nan)\n",
    "            if row.loc[columns[0]].replace(' ','') == verticalvar[0]: # Casa\n",
    "                del dictionaryofvalues.get(newc[0])[-1]\n",
    "                dictionaryofvalues.get(newc[0]).append(row[columns[1]]) #Casos\n",
    "                del dictionaryofvalues.get(newc[1])[-1]\n",
    "                dictionaryofvalues.get(newc[1]).append(row[columns[2]]) # %\n",
    "                del dictionaryofvalues.get(newc[2])[-1]\n",
    "                dictionaryofvalues.get(newc[2]).append(row[columns[3]]) #Acumulado %\n",
    "            if row.loc[columns[0]] == verticalvar[1]: #Casa Indigena\n",
    "                del dictionaryofvalues.get(newc[3])[-1]\n",
    "                dictionaryofvalues.get(newc[3]).append(row[columns[1]]) #Casos\n",
    "                del dictionaryofvalues.get(newc[4])[-1]\n",
    "                dictionaryofvalues.get(newc[4]).append(row[columns[2]]) # %\n",
    "                del dictionaryofvalues.get(newc[5])[-1]\n",
    "                dictionaryofvalues.get(newc[5]).append(row[columns[3]]) #Acumulado %\n",
    "            if row.loc[columns[0]] == verticalvar[2]: #Apartmento\n",
    "                del dictionaryofvalues.get(newc[6])[-1]\n",
    "                dictionaryofvalues.get(newc[6]).append(row[columns[1]]) #Casos\n",
    "                del dictionaryofvalues.get(newc[7])[-1]\n",
    "                dictionaryofvalues.get(newc[7]).append(row[columns[2]]) # %\n",
    "                del dictionaryofvalues.get(newc[8])[-1]\n",
    "                dictionaryofvalues.get(newc[8]).append(row[columns[3]]) #Acumulado\n",
    "            if row.loc[columns[0]] == verticalvar[3]: #Tipo cuarto\n",
    "                del dictionaryofvalues.get(newc[9])[-1]\n",
    "                dictionaryofvalues.get(newc[9]).append(row[columns[1]]) #Casos\n",
    "                del dictionaryofvalues.get(newc[10])[-1]\n",
    "                dictionaryofvalues.get(newc[10]).append(row[columns[2]]) # %\n",
    "                del dictionaryofvalues.get(newc[11])[-1]\n",
    "                dictionaryofvalues.get(newc[11]).append(row[columns[3]]) #Acumulado\n",
    "            if row.loc[columns[0]] == verticalvar[4]: #Otro tipo de vivienda\n",
    "                del dictionaryofvalues.get(newc[12])[-1]\n",
    "                dictionaryofvalues.get(newc[12]).append(row[columns[1]]) # Casos\n",
    "                del dictionaryofvalues.get(newc[13])[-1]\n",
    "                dictionaryofvalues.get(newc[13]).append(row[columns[2]]) # %\n",
    "                del dictionaryofvalues.get(newc[14])[-1]\n",
    "                dictionaryofvalues.get(newc[14]).append(row[columns[3]]) #Acumulado   \n",
    "            if row.loc[columns[0]] == verticalvar[5]: #Total\n",
    "                del dictionaryofvalues.get(newc[15])[-1]\n",
    "                dictionaryofvalues.get(newc[15]).append(row[columns[1]]) #Casos\n",
    "                del dictionaryofvalues.get(newc[16])[-1]\n",
    "                dictionaryofvalues.get(newc[16]).append(row[columns[2]]) #%\n",
    "                del dictionaryofvalues.get(newc[17])[-1]\n",
    "                dictionaryofvalues.get(newc[17]).append(row[columns[3]]) #Acumulado\n",
    "        \n",
    "                \n",
    "                \n",
    "    #Adding the arrays into the new dataframe\n",
    "    for col in newdf.columns:\n",
    "#           print(col, len(dictionaryofvalues.get(col)))\n",
    "        newdf[col] = dictionaryofvalues.get(col)\n",
    "    \n",
    "    newdf.drop(columns = newdf[newdf.columns[newdf.columns.str.contains('Acumulado')]])\n",
    "    \n",
    "    return newdf\n",
    "\n",
    "output = long_to_wide(vivienda, categories1, categories2, excelcolumns, index)"
   ]
  },
  {
   "cell_type": "code",
   "execution_count": 55,
   "metadata": {},
   "outputs": [],
   "source": [
    "output.columns = ['Tipo_viv_' + c.replace(' ', '_') for c in output.columns]"
   ]
  },
  {
   "cell_type": "code",
   "execution_count": 100,
   "metadata": {},
   "outputs": [],
   "source": [
    "output = output.drop(columns = output[output.columns[output.columns.str.contains('Acumulado')]])"
   ]
  },
  {
   "cell_type": "code",
   "execution_count": 187,
   "metadata": {},
   "outputs": [],
   "source": [
    "output.to_csv('V01BTIPVIV_wideformat_1_8_v2.csv', index=False)"
   ]
  },
  {
   "cell_type": "markdown",
   "metadata": {},
   "source": [
    "Part 1\n",
    "1. Delete all the empty rows. Delete the Accumulado % column.\n",
    "2. Create a new column with Area #, four_digit_num and their values if the row has AREA # and four digit. \n",
    "\n",
    "Part 2\n",
    "3. Fill in the blanks of the new AREA # and new Four_digit_num columns if the row doesn't equal to AREA in column Tipo de vivienda\n",
    "4. Drop rows that have AREA # in column Tipo de vivienda\n",
    "5. Drop the rows starting and after \"RESUMEN\"\n",
    "6. Keep only the digits of AREA #. Concatenate Area # and Four_digit_num into one ###-##\n",
    "7. Delete rows that have categories in column Tipo de vivienda\n",
    "\n",
    "Part 3\n",
    "8. Rename columns \n",
    "9. Groupby index and categories and aggregate its sum. Then pivot on index and columns as categories. Drop the unneccessary resulting columns\n",
    "10. Rename new column names. Reset index\n",
    "11. Merge to get four digit nums. Drop duplicates."
   ]
  },
  {
   "cell_type": "markdown",
   "metadata": {},
   "source": [
    "This function copies the index number and drag the values down to all rows. Then, pivot the table based on the values (Casa, apartamento, tipo cuarto, etc). "
   ]
  },
  {
   "cell_type": "code",
   "execution_count": 6,
   "metadata": {},
   "outputs": [],
   "source": [
    "def long_to_wide_table(df, index, categories):\n",
    "    #step 1\n",
    "    df = df.dropna(how='all')\n",
    "    df = df.drop(columns = ['Unnamed: 3']) #change if necessary\n",
    "    \n",
    "    #step 2\n",
    "    df[categories] = df[categories].astype(str)\n",
    "    #filter out only the Area # from column categories\n",
    "    df[index] = df[categories].where(df[categories].str.contains('AREA #'))\n",
    "    df['Four_digit_num'] = df.apply(\n",
    "        lambda x: x['Unnamed: 1'] \n",
    "        if str(x[categories])[0:6] == 'AREA #' else np.nan, axis = 1) #change if needed\n",
    "    \n",
    "    #step 3\n",
    "    df[index] = df[index].fillna(method = 'ffill')\n",
    "    df['Four_digit_num'] = df['Four_digit_num'].fillna(method = 'ffill') #change if needed\n",
    "    \n",
    "    #step 4\n",
    "    df = df[~df[categories].str.contains('AREA #')]\n",
    "    \n",
    "    #step 5\n",
    "#     df = df[0:df.shape[0]-resumencount]\n",
    "    df = df.loc[:(df == 'RESUMEN').any(1).idxmax()-1]\n",
    "\n",
    "    #step 6\n",
    "    df[index] = df[index].apply(lambda x: x[7:])\n",
    "    \n",
    "    #step 7\n",
    "    df = df[~df[categories].str.contains('CategorÌas')]\n",
    "    \n",
    "    #step 8\n",
    "    df = df.rename(columns = {'Unnamed: 1': 'casos', 'Unnamed: 2': 'percent'})\n",
    "    \n",
    "    #step 9\n",
    "    newdf = df.groupby(\n",
    "        [index, categories]).aggregate(\n",
    "        {'casos': 'sum', 'percent': 'sum'}).reset_index()\n",
    "    newdf = newdf.pivot_table(\n",
    "        values = ['casos', 'percent'], columns=categories, index = 'Area #')\n",
    "    \n",
    "    newdf = newdf.drop(columns = ['Tabla vacÌa'], axis = 1, level =1)\n",
    "    \n",
    "    #step 10\n",
    "    newdf.columns = [\"_\".join((i,k)) for i,k in newdf.columns]\n",
    "    newdf = newdf.reset_index()\n",
    "    \n",
    "    #step 11\n",
    "    return df[[index, 'Four_digit_num']].merge(\n",
    "        newdf, on = index, how = 'inner').drop_duplicates()\n",
    "    \n",
    "# long_to_wide_table(vivienda, 'Area #', 'Tipo de vivienda')"
   ]
  },
  {
   "cell_type": "markdown",
   "metadata": {},
   "source": [
    "VIVIENDA FOLDER\n",
    "1. First, turn all the files into xlsx.\n"
   ]
  },
  {
   "cell_type": "code",
   "execution_count": 2,
   "metadata": {},
   "outputs": [],
   "source": [
    "viviendo = [str(k) for k in list(Path('Viviendo - 20 values - Missing V0E2CODTER, Condigo territorialidad').glob('*.xlsx'))]"
   ]
  },
  {
   "cell_type": "code",
   "execution_count": 3,
   "metadata": {},
   "outputs": [
    {
     "data": {
      "text/plain": [
       "[\"Viviendo - 20 values - Missing V0E2CODTER, Condigo territorialidad/TOTAL_LEA - Total LEA'S basado en tipo de LEA.xlsx\",\n",
       " 'Viviendo - 20 values - Missing V0E2CODTER, Condigo territorialidad/V05B5TELEF - Telefono.xlsx',\n",
       " 'Viviendo - 20 values - Missing V0E2CODTER, Condigo territorialidad/VC01BTOTHO - Total de Hogares.xlsx',\n",
       " 'Viviendo - 20 values - Missing V0E2CODTER, Condigo territorialidad/V0E1TIPTER - Tipo de territorialidad.xlsx',\n",
       " 'Viviendo - 20 values - Missing V0E2CODTER, Condigo territorialidad/V01BTIPVIV - Tipo de Vivienda.xlsx',\n",
       " 'Viviendo - 20 values - Missing V0E2CODTER, Condigo territorialidad/VLC01BTIPL - Tipo de LEA.xlsx',\n",
       " 'Viviendo - 20 values - Missing V0E2CODTER, Condigo territorialidad/V05B1ELECT - Energia Electrica.xlsx',\n",
       " 'Viviendo - 20 values - Missing V0E2CODTER, Condigo territorialidad/VLC02BTOTP - Total de residentes en el LEA.xlsx',\n",
       " 'Viviendo - 20 values - Missing V0E2CODTER, Condigo territorialidad/V05B3ACUED - Acueducto.xlsx',\n",
       " 'Viviendo - 20 values - Missing V0E2CODTER, Condigo territorialidad/V0HUSOUCEN - Uso Unidad Censal.xlsx',\n",
       " 'Viviendo - 20 values - Missing V0E2CODTER, Condigo territorialidad/V0ANROHOGA - Numero Hogar.xlsx',\n",
       " 'Viviendo - 20 values - Missing V0E2CODTER, Condigo territorialidad/V0E0TERRIV - Territorialidad.xlsx',\n",
       " 'Viviendo - 20 values - Missing V0E2CODTER, Condigo territorialidad/TOTELD = Total de personas de 65+.xlsx',\n",
       " 'Viviendo - 20 values - Missing V0E2CODTER, Condigo territorialidad/TOTAL_VIV - Total Viviendas basado en COndicion de Ocupacion.xlsx',\n",
       " 'Viviendo - 20 values - Missing V0E2CODTER, Condigo territorialidad/V05B2ALCAN - Alcantarillado.xlsx',\n",
       " 'Viviendo - 20 values - Missing V0E2CODTER, Condigo territorialidad/VLC01BEXIS - Existen Hogares LEA.xlsx',\n",
       " 'Viviendo - 20 values - Missing V0E2CODTER, Condigo territorialidad/VC00BCONOC - Condicion de Occupacion.xlsx',\n",
       " 'Viviendo - 20 values - Missing V0E2CODTER, Condigo territorialidad/V05B4GASNA - Gas Natural.xlsx',\n",
       " 'Viviendo - 20 values - Missing V0E2CODTER, Condigo territorialidad/NROUPZV - Nro de UPZ Vivienda.xlsx',\n",
       " 'Viviendo - 20 values - Missing V0E2CODTER, Condigo territorialidad/CABRESV - Identificador Cabercera-Resto Vivienda.xlsx']"
      ]
     },
     "execution_count": 3,
     "metadata": {},
     "output_type": "execute_result"
    }
   ],
   "source": [
    "viviendo"
   ]
  },
  {
   "cell_type": "code",
   "execution_count": 7,
   "metadata": {},
   "outputs": [
    {
     "name": "stdout",
     "output_type": "stream",
     "text": [
      "Viviendo - 20 values - Missing V0E2CODTER, Condigo territorialidad/TOTAL_LEA - Total LEA'S basado en tipo de LEA.xlsx\n",
      "Viviendo - 20 values - Missing V0E2CODTER, Condigo territorialidad/V05B5TELEF - Telefono.xlsx\n",
      "Viviendo - 20 values - Missing V0E2CODTER, Condigo territorialidad/VC01BTOTHO - Total de Hogares.xlsx\n",
      "Viviendo - 20 values - Missing V0E2CODTER, Condigo territorialidad/V0E1TIPTER - Tipo de territorialidad.xlsx\n",
      "Viviendo - 20 values - Missing V0E2CODTER, Condigo territorialidad/V01BTIPVIV - Tipo de Vivienda.xlsx\n",
      "Viviendo - 20 values - Missing V0E2CODTER, Condigo territorialidad/VLC01BTIPL - Tipo de LEA.xlsx\n",
      "Viviendo - 20 values - Missing V0E2CODTER, Condigo territorialidad/V05B1ELECT - Energia Electrica.xlsx\n",
      "Viviendo - 20 values - Missing V0E2CODTER, Condigo territorialidad/VLC02BTOTP - Total de residentes en el LEA.xlsx\n",
      "Viviendo - 20 values - Missing V0E2CODTER, Condigo territorialidad/V05B3ACUED - Acueducto.xlsx\n",
      "Viviendo - 20 values - Missing V0E2CODTER, Condigo territorialidad/V0HUSOUCEN - Uso Unidad Censal.xlsx\n",
      "Viviendo - 20 values - Missing V0E2CODTER, Condigo territorialidad/V0ANROHOGA - Numero Hogar.xlsx\n",
      "Viviendo - 20 values - Missing V0E2CODTER, Condigo territorialidad/V0E0TERRIV - Territorialidad.xlsx\n",
      "Viviendo - 20 values - Missing V0E2CODTER, Condigo territorialidad/TOTELD = Total de personas de 65+.xlsx\n",
      "Viviendo - 20 values - Missing V0E2CODTER, Condigo territorialidad/TOTAL_VIV - Total Viviendas basado en COndicion de Ocupacion.xlsx\n",
      "Viviendo - 20 values - Missing V0E2CODTER, Condigo territorialidad/V05B2ALCAN - Alcantarillado.xlsx\n",
      "Viviendo - 20 values - Missing V0E2CODTER, Condigo territorialidad/VLC01BEXIS - Existen Hogares LEA.xlsx\n",
      "Viviendo - 20 values - Missing V0E2CODTER, Condigo territorialidad/VC00BCONOC - Condicion de Occupacion.xlsx\n",
      "Viviendo - 20 values - Missing V0E2CODTER, Condigo territorialidad/V05B4GASNA - Gas Natural.xlsx\n",
      "Viviendo - 20 values - Missing V0E2CODTER, Condigo territorialidad/NROUPZV - Nro de UPZ Vivienda.xlsx\n",
      "Viviendo - 20 values - Missing V0E2CODTER, Condigo territorialidad/CABRESV - Identificador Cabercera-Resto Vivienda.xlsx\n"
     ]
    }
   ],
   "source": [
    "for table in viviendo:\n",
    "    f = pd.read_excel(table)\n",
    "    print(table)\n",
    "    long_to_wide_table(f, 'Area #', f.columns[0]).to_excel('Wide_' + table[67:])"
   ]
  },
  {
   "cell_type": "code",
   "execution_count": 71,
   "metadata": {},
   "outputs": [],
   "source": [
    "hogar = [str(k) for k in list(Path('Hogar').glob('*.xlsx'))]"
   ]
  },
  {
   "cell_type": "code",
   "execution_count": 77,
   "metadata": {},
   "outputs": [
    {
     "name": "stdout",
     "output_type": "stream",
     "text": [
      "Hogar/$TOTAL_HOG - Total HOgares Basado en Nro del hogar.xlsx\n",
      "Hogar/$HC06BTOTPE - Total personas hogar.xlsx\n",
      "Hogar/$TOTELD - Total de personas de 65+.xlsx\n",
      "Hogar/$HC07BACTEC - Hay Actividad economica hogar.xlsx\n",
      "Hogar/$NROUPZH - Nro de UPZ Hogar.xlsx\n",
      "Hogar/$H0ANROHOGA - Numero Hogar.xlsx\n"
     ]
    }
   ],
   "source": [
    "for table in hogar:\n",
    "    f = pd.read_excel(table)\n",
    "    print(table)\n",
    "    long_to_wide_table(f, 'Area #', f.columns[0]).to_excel('Wide_' + table[6:])"
   ]
  },
  {
   "cell_type": "code",
   "execution_count": 80,
   "metadata": {},
   "outputs": [
    {
     "name": "stdout",
     "output_type": "stream",
     "text": [
      "Persona/$P30B5ANOLL - Anos en que llego al pais hace 5 anos.xlsx\n",
      "Persona/$EDDECE - Edad en grupos decenales.xlsx\n",
      "Persona/$P32B4DPTOU - Departamento del ultimo cambio - Bogota.xlsx\n",
      "Persona/$P30B0DPMP5 - DPto_Mpto donde vivia hace 5 anos - MPIOS.xlsx\n",
      "Persona/$PC08B1NROP - Numero Orden Persona - MPIOS.xlsx\n",
      "Persona/$P32B7PAISU - Pais del ultimo cambio.xlsx\n",
      "Persona/$P35B1AYUNO - Tuvo dias de ayuno.xlsx\n",
      "Persona/$P28B5ANOLL - Ano en que llego al pais.xlsx\n",
      "Persona/$P32B8CAUSA - Causa del cambio del lugar residencia.xlsx\n",
      "Persona/$P32B6CLASE - Clase dentro del municpio.xlsx\n",
      "Persona/$TIPO_ESTUD - Tipo de estudios que curso - MPIOS.xlsx\n",
      "Persona/$P30B3MPIO5 - Municipio donde vivia hace 5 anos - MPIOS.xlsx\n",
      "Persona/$P30B4PAIS5 - Pais donde vivia hace 5 anos.xlsx\n",
      "Persona/$P32B5MPIOU - Municipio del ultimo cambio- MPIOS.xlsx\n",
      "Persona/$P32B1CAMBI - Cambio de lugar ultimos 5 anos.xlsx\n",
      "Persona/$NIVEL_ANO    - Nivel y anos aprobado - Bogota.xlsx\n",
      "Persona/$TOTAL_PER - Total de personas.xlsx\n",
      "Persona/$P44B2ULTAN - Ultimo ano aprobado.xlsx\n",
      "Persona/$P28B4PAISN - Pais de nacimiento.xlsx\n",
      "Persona/$NIVEL_ANO - Nivel y anos aprobado - MPIOS.xlsx\n",
      "Persona/$P27BPARENT - Parentesco Con el Jefe.xlsx\n",
      "Persona/$P35B2DIASA - Dias de ayuno en la ultima semana.xlsx\n",
      "Persona/$P42B1ASIST - Asistencia a alguna inst. educativa.xlsx\n",
      "Persona/$P32B4DPTOU - Deparamento del ultimo cambio - MPIOS.xlsx\n",
      "Persona/$P0ANROHOGA - Numero Hogar.xlsx\n",
      "Persona/$P53BESTCIV - Estado conyugal de la persona.xlsx\n",
      "Persona/$EDQUINQ - Edad en grupos qunquenales.xlsx\n",
      "Persona/$P47BOCUPAC - Clase de trabajo que realiz ultima semana.xlsx\n",
      "Persona/$P44B1TIPES - Tipo de estudios qu curso.xlsx\n",
      "Persona/$P32B0DPMPU - Dpto-mpio del ultimo cambio - MPIOS.xlsx\n",
      "Persona/$P25BSEXO - Sexo.xlsx\n",
      "Persona/$NROUPZP - Nro de UPZ Personas Hogar.xlsx\n",
      "Persona/$TIPO_ESTUD - Tipo de estudios que curso - Bogota.xlsx\n",
      "Persona/$P33B1ETNIA - Pertenencia Etnica.xlsx\n",
      "Persona/$P30B1VIVIA - Lugar donde vivia hace 5 anos - MPIOS.xlsx\n",
      "Persona/$P41B1ALFAB - Sabe leer y escribir.xlsx\n",
      "Persona/$P31BCLASE5 - Clase dentro del municipio.xlsx\n",
      "Persona/$P32B0DPMPU - Depto Mpio residia la mama al nacer - MPIOS2.xlsx\n",
      "Persona/$P30B2DPTO5 - Departamento donde vivia hace 5 anos - MPIOS.xlsx\n",
      "Persona/$P42B2TIPES - Tipo de institucion educativa.xlsx\n",
      "Persona/$P32B3LUGUL - En donde vivia antes.xlsx\n",
      "Persona/$P32B2ANOUL - Ano del ultimo cambio.xlsx\n"
     ]
    }
   ],
   "source": [
    "persona = [str(k) for k in list(Path('Persona').glob('*.xlsx'))]\n",
    "for table in persona:\n",
    "    f = pd.read_excel(table)\n",
    "    print(table)\n",
    "    long_to_wide_table(f, 'Area #', f.columns[0]).to_excel('Wide_' + table[8:])"
   ]
  },
  {
   "cell_type": "code",
   "execution_count": null,
   "metadata": {},
   "outputs": [],
   "source": []
  }
 ],
 "metadata": {
  "anaconda-cloud": {},
  "kernelspec": {
   "display_name": "Python 3",
   "language": "python",
   "name": "python3"
  },
  "language_info": {
   "codemirror_mode": {
    "name": "ipython",
    "version": 3
   },
   "file_extension": ".py",
   "mimetype": "text/x-python",
   "name": "python",
   "nbconvert_exporter": "python",
   "pygments_lexer": "ipython3",
   "version": "3.6.8"
  }
 },
 "nbformat": 4,
 "nbformat_minor": 2
}
